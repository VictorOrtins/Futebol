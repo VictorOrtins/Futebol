{
 "cells": [
  {
   "cell_type": "markdown",
   "id": "68981023",
   "metadata": {},
   "source": [
    "# Imports"
   ]
  },
  {
   "cell_type": "code",
   "execution_count": 14,
   "id": "18f918be",
   "metadata": {},
   "outputs": [],
   "source": [
    "from ScraperFC.sofascore import Sofascore\n",
    "from ScraperFC import sofascore as sfc_sofascore"
   ]
  },
  {
   "cell_type": "markdown",
   "id": "97918c19",
   "metadata": {},
   "source": [
    "# Sofascore"
   ]
  },
  {
   "cell_type": "code",
   "execution_count": 15,
   "id": "87dcf38b",
   "metadata": {},
   "outputs": [],
   "source": [
    "sofascore_scrapper = Sofascore()"
   ]
  },
  {
   "cell_type": "markdown",
   "id": "32ba0ffd",
   "metadata": {},
   "source": [
    "## Request Workaround"
   ]
  },
  {
   "cell_type": "code",
   "execution_count": 19,
   "id": "12e1758d",
   "metadata": {},
   "outputs": [],
   "source": [
    "import requests\n",
    "\n",
    "\n",
    "def requisicao_personalizada(url: str):\n",
    "    headers = {\n",
    "        'User-Agent': 'Mozilla/5.0 (Windows NT 10.0; Win64; x64) AppleWebKit/537.36 (KHTML, like Gecko) Chrome/127.0.0.0 Safari/537.36',\n",
    "        'Accept': 'application/json, text/plain, */*',\n",
    "        'Referer': 'https://www.sofascore.com/',\n",
    "        'Origin': 'https://www.sofascore.com',\n",
    "    }\n",
    "\n",
    "    response = requests.get(url, headers=headers)\n",
    "    print(f\"Fazendo requisição para {url} -> Status: {response.status_code}\")\n",
    "    \n",
    "    # Se a resposta for 403, levanta um erro claro\n",
    "    if response.status_code == 403:\n",
    "        raise PermissionError(\"Acesso Proibido (403) à API do Sofascore. A segurança pode ter aumentado.\")\n",
    "    \n",
    "    # Adicionamos um método .json() para compatibilidade\n",
    "    return response\n",
    "\n",
    "sfc_sofascore.botasaurus_get = requisicao_personalizada"
   ]
  },
  {
   "cell_type": "markdown",
   "id": "8149d50f",
   "metadata": {},
   "source": [
    "# Matches"
   ]
  },
  {
   "cell_type": "code",
   "execution_count": 17,
   "id": "7fb13fd5",
   "metadata": {},
   "outputs": [
    {
     "data": {
      "text/plain": [
       "12436568"
      ]
     },
     "execution_count": 17,
     "metadata": {},
     "output_type": "execute_result"
    }
   ],
   "source": [
    "sofascore_scrapper.get_match_id_from_url(\"https://www.sofascore.com/pt/football/match/liverpool-arsenal/HQfh#id:12436568\")"
   ]
  },
  {
   "cell_type": "markdown",
   "id": "26c62164",
   "metadata": {},
   "source": [
    "## Single Match"
   ]
  },
  {
   "cell_type": "code",
   "execution_count": 20,
   "id": "05afd6e4",
   "metadata": {},
   "outputs": [
    {
     "name": "stdout",
     "output_type": "stream",
     "text": [
      "Fazendo requisição para https://api.sofascore.com/api/v1/event/11913739/statistics -> Status: 200\n"
     ]
    }
   ],
   "source": [
    "liv_ars_df = sofascore_scrapper.scrape_team_match_stats(11913739)"
   ]
  },
  {
   "cell_type": "code",
   "execution_count": 21,
   "id": "daae9de0",
   "metadata": {},
   "outputs": [
    {
     "data": {
      "text/plain": [
       "pandas.core.frame.DataFrame"
      ]
     },
     "execution_count": 21,
     "metadata": {},
     "output_type": "execute_result"
    }
   ],
   "source": [
    "type(liv_ars_df)"
   ]
  },
  {
   "cell_type": "code",
   "execution_count": 22,
   "id": "d57bdfb6",
   "metadata": {},
   "outputs": [
    {
     "data": {
      "text/html": [
       "<div>\n",
       "<style scoped>\n",
       "    .dataframe tbody tr th:only-of-type {\n",
       "        vertical-align: middle;\n",
       "    }\n",
       "\n",
       "    .dataframe tbody tr th {\n",
       "        vertical-align: top;\n",
       "    }\n",
       "\n",
       "    .dataframe thead th {\n",
       "        text-align: right;\n",
       "    }\n",
       "</style>\n",
       "<table border=\"1\" class=\"dataframe\">\n",
       "  <thead>\n",
       "    <tr style=\"text-align: right;\">\n",
       "      <th></th>\n",
       "      <th>name</th>\n",
       "      <th>home</th>\n",
       "      <th>away</th>\n",
       "      <th>compareCode</th>\n",
       "      <th>statisticsType</th>\n",
       "      <th>valueType</th>\n",
       "      <th>homeValue</th>\n",
       "      <th>awayValue</th>\n",
       "      <th>renderType</th>\n",
       "      <th>key</th>\n",
       "      <th>homeTotal</th>\n",
       "      <th>awayTotal</th>\n",
       "      <th>period</th>\n",
       "      <th>group</th>\n",
       "    </tr>\n",
       "  </thead>\n",
       "  <tbody>\n",
       "    <tr>\n",
       "      <th>0</th>\n",
       "      <td>Aces</td>\n",
       "      <td>3</td>\n",
       "      <td>3</td>\n",
       "      <td>3</td>\n",
       "      <td>positive</td>\n",
       "      <td>event</td>\n",
       "      <td>0</td>\n",
       "      <td>2</td>\n",
       "      <td>1</td>\n",
       "      <td>aces</td>\n",
       "      <td>NaN</td>\n",
       "      <td>NaN</td>\n",
       "      <td>ALL</td>\n",
       "      <td>Service</td>\n",
       "    </tr>\n",
       "    <tr>\n",
       "      <th>1</th>\n",
       "      <td>Double faults</td>\n",
       "      <td>1</td>\n",
       "      <td>1</td>\n",
       "      <td>3</td>\n",
       "      <td>negative</td>\n",
       "      <td>event</td>\n",
       "      <td>0</td>\n",
       "      <td>0</td>\n",
       "      <td>1</td>\n",
       "      <td>doubleFaults</td>\n",
       "      <td>NaN</td>\n",
       "      <td>NaN</td>\n",
       "      <td>ALL</td>\n",
       "      <td>Service</td>\n",
       "    </tr>\n",
       "    <tr>\n",
       "      <th>2</th>\n",
       "      <td>First serve</td>\n",
       "      <td>56/83 (67%)</td>\n",
       "      <td>72/97 (74%)</td>\n",
       "      <td>2</td>\n",
       "      <td>positive</td>\n",
       "      <td>team</td>\n",
       "      <td>90</td>\n",
       "      <td>130</td>\n",
       "      <td>1</td>\n",
       "      <td>firstServeAccuracy</td>\n",
       "      <td>83.0</td>\n",
       "      <td>97.0</td>\n",
       "      <td>ALL</td>\n",
       "      <td>Service</td>\n",
       "    </tr>\n",
       "    <tr>\n",
       "      <th>3</th>\n",
       "      <td>Second serve</td>\n",
       "      <td>26/27 (96%)</td>\n",
       "      <td>24/25 (96%)</td>\n",
       "      <td>1</td>\n",
       "      <td>positive</td>\n",
       "      <td>team</td>\n",
       "      <td>20</td>\n",
       "      <td>10</td>\n",
       "      <td>1</td>\n",
       "      <td>secondServeAccuracy</td>\n",
       "      <td>27.0</td>\n",
       "      <td>25.0</td>\n",
       "      <td>ALL</td>\n",
       "      <td>Service</td>\n",
       "    </tr>\n",
       "    <tr>\n",
       "      <th>4</th>\n",
       "      <td>First serve points</td>\n",
       "      <td>41/56 (73%)</td>\n",
       "      <td>47/72 (65%)</td>\n",
       "      <td>1</td>\n",
       "      <td>positive</td>\n",
       "      <td>team</td>\n",
       "      <td>62</td>\n",
       "      <td>88</td>\n",
       "      <td>1</td>\n",
       "      <td>firstServePointsAccuracy</td>\n",
       "      <td>56.0</td>\n",
       "      <td>72.0</td>\n",
       "      <td>ALL</td>\n",
       "      <td>Service</td>\n",
       "    </tr>\n",
       "  </tbody>\n",
       "</table>\n",
       "</div>"
      ],
      "text/plain": [
       "                 name         home         away  ...  awayTotal period    group\n",
       "0                Aces            3            3  ...        NaN    ALL  Service\n",
       "1       Double faults            1            1  ...        NaN    ALL  Service\n",
       "2         First serve  56/83 (67%)  72/97 (74%)  ...       97.0    ALL  Service\n",
       "3        Second serve  26/27 (96%)  24/25 (96%)  ...       25.0    ALL  Service\n",
       "4  First serve points  41/56 (73%)  47/72 (65%)  ...       72.0    ALL  Service\n",
       "\n",
       "[5 rows x 14 columns]"
      ]
     },
     "execution_count": 22,
     "metadata": {},
     "output_type": "execute_result"
    }
   ],
   "source": [
    "liv_ars_df.head()"
   ]
  },
  {
   "cell_type": "markdown",
   "id": "8899bd30",
   "metadata": {},
   "source": [
    "# Heatmap"
   ]
  }
 ],
 "metadata": {
  "kernelspec": {
   "display_name": "football",
   "language": "python",
   "name": "python3"
  },
  "language_info": {
   "codemirror_mode": {
    "name": "ipython",
    "version": 3
   },
   "file_extension": ".py",
   "mimetype": "text/x-python",
   "name": "python",
   "nbconvert_exporter": "python",
   "pygments_lexer": "ipython3",
   "version": "3.10.18"
  }
 },
 "nbformat": 4,
 "nbformat_minor": 5
}
